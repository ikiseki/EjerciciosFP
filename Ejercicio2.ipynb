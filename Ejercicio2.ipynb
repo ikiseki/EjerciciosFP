{
  "nbformat": 4,
  "nbformat_minor": 0,
  "metadata": {
    "colab": {
      "provenance": [],
      "authorship_tag": "ABX9TyOMY7EHKMXwk4Zl7+bw2TOy",
      "include_colab_link": true
    },
    "kernelspec": {
      "name": "python3",
      "display_name": "Python 3"
    },
    "language_info": {
      "name": "python"
    }
  },
  "cells": [
    {
      "cell_type": "markdown",
      "metadata": {
        "id": "view-in-github",
        "colab_type": "text"
      },
      "source": [
        "<a href=\"https://colab.research.google.com/github/ikiseki/EjerciciosFP/blob/main/Ejercicio2.ipynb\" target=\"_parent\"><img src=\"https://colab.research.google.com/assets/colab-badge.svg\" alt=\"Open In Colab\"/></a>"
      ]
    },
    {
      "cell_type": "markdown",
      "source": [
        "# **Programa para conocer el minimo comun multiplo de dos numeros(Mcm)**\n",
        "Primero se necesita conocer aquellos valores de entrada que seran dos numeros dados por el usuario"
      ],
      "metadata": {
        "id": "rntWerkOkT7k"
      }
    },
    {
      "cell_type": "code",
      "execution_count": 4,
      "metadata": {
        "colab": {
          "base_uri": "https://localhost:8080/"
        },
        "id": "5w0sKRq_iide",
        "outputId": "d8bfe941-57f9-4173-961b-5c6b0e2abc60"
      },
      "outputs": [
        {
          "name": "stdout",
          "output_type": "stream",
          "text": [
            "Ingrese el primer numero: 17\n",
            "Ingrese el segundo numero: 27\n"
          ]
        }
      ],
      "source": [
        "num1 = int(input(\"Ingrese el primer numero: \"))\n",
        "num2 = int(input(\"Ingrese el segundo numero: \"))"
      ]
    },
    {
      "cell_type": "markdown",
      "source": [
        "Despues tendremos que obtener el numero mayor de ambos usando una funcion llamada \"max()\" y lo asiganremos a otra variable, esto con el fin de partir con el numero mas grande entre ambos numeros."
      ],
      "metadata": {
        "id": "wLzSJZQokz7q"
      }
    },
    {
      "cell_type": "code",
      "source": [
        "mcm = max(num1, num2)\n"
      ],
      "metadata": {
        "id": "ChFit-eqlp-5"
      },
      "execution_count": 5,
      "outputs": []
    },
    {
      "cell_type": "markdown",
      "source": [
        "A continuacion se iniciara un ciclo while se detendra hasta encontrar el numero el cual sea divisible entre ambos numeros. \"mientras que el residuo de la primero o segunda division sea diferente a cero se le sumará 1 al mcm\""
      ],
      "metadata": {
        "id": "HkRWhvaSmV5K"
      }
    },
    {
      "cell_type": "code",
      "source": [
        "while(mcm%num1 != 0 or mcm%num2 != 0):\n",
        "  mcm += 1\n",
        "\n",
        "print(\"El minimo comun multiplo de\", num1, \"y\", num2, \"es\", mcm)"
      ],
      "metadata": {
        "colab": {
          "base_uri": "https://localhost:8080/"
        },
        "id": "1NTxK_fDmb9c",
        "outputId": "fb989791-5c64-48fa-eb4a-f6b64820b6e3"
      },
      "execution_count": 6,
      "outputs": [
        {
          "output_type": "stream",
          "name": "stdout",
          "text": [
            "El minimo comun multiplo de 17 y 27 es 459\n"
          ]
        }
      ]
    },
    {
      "cell_type": "markdown",
      "source": [
        "Ya por ultimo se sacará el resultado en pantalla"
      ],
      "metadata": {
        "id": "3hrOhLwaoLwb"
      }
    }
  ]
}