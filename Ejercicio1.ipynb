{
  "nbformat": 4,
  "nbformat_minor": 0,
  "metadata": {
    "colab": {
      "provenance": [],
      "authorship_tag": "ABX9TyMaBV+idKa7Ky4rK5ElCJ47",
      "include_colab_link": true
    },
    "kernelspec": {
      "name": "python3",
      "display_name": "Python 3"
    },
    "language_info": {
      "name": "python"
    }
  },
  "cells": [
    {
      "cell_type": "markdown",
      "metadata": {
        "id": "view-in-github",
        "colab_type": "text"
      },
      "source": [
        "<a href=\"https://colab.research.google.com/github/ikiseki/EjerciciosFP/blob/main/Ejercicio1.ipynb\" target=\"_parent\"><img src=\"https://colab.research.google.com/assets/colab-badge.svg\" alt=\"Open In Colab\"/></a>"
      ]
    },
    {
      "cell_type": "markdown",
      "source": [
        "# **En este programa se desarrollara un programa para sacar la velocidad en m/s**\n",
        "\n",
        "Primeramente se tiene que obtener los valores de entrada en este caso la Distancia y el Tiempo"
      ],
      "metadata": {
        "id": "wk84_rd-g2mb"
      }
    },
    {
      "cell_type": "code",
      "execution_count": 1,
      "metadata": {
        "colab": {
          "base_uri": "https://localhost:8080/"
        },
        "id": "kUsTNyNhgz4l",
        "outputId": "cf8789c4-bf03-4332-f2df-346dedf1d07a"
      },
      "outputs": [
        {
          "name": "stdout",
          "output_type": "stream",
          "text": [
            "ingrese la distancia en metros: 1000\n",
            "ingrese el tiempo en segundos: 235\n"
          ]
        }
      ],
      "source": [
        "d=float(input(\"ingrese la distancia en metros: \"))\n",
        "t=float(input(\"ingrese el tiempo en segundos: \"))\n"
      ]
    },
    {
      "cell_type": "markdown",
      "source": [
        "Despues viene el proceso para obtener el resultado deseado, que en este caso es la formula de la velocidad y guardarla en una variable designada para el resultado. distancia/tiempo"
      ],
      "metadata": {
        "id": "RjG9wOX3hrSV"
      }
    },
    {
      "cell_type": "code",
      "source": [
        "vel=d/t"
      ],
      "metadata": {
        "id": "3MKq_uC-h33V"
      },
      "execution_count": 2,
      "outputs": []
    },
    {
      "cell_type": "markdown",
      "source": [],
      "metadata": {
        "id": "Umtin9q_iEH1"
      }
    },
    {
      "cell_type": "code",
      "source": [
        "print(\"la velocidad en m/s es: \",vel)"
      ],
      "metadata": {
        "colab": {
          "base_uri": "https://localhost:8080/"
        },
        "id": "y_X3hwIaiIed",
        "outputId": "583c64bc-55d0-4a17-fb46-cc40959a00ec"
      },
      "execution_count": 3,
      "outputs": [
        {
          "output_type": "stream",
          "name": "stdout",
          "text": [
            "la velocidad en m/s es:  4.25531914893617\n"
          ]
        }
      ]
    }
  ]
}